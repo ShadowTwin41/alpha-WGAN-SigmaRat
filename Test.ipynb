{
 "cells": [
  {
   "cell_type": "code",
   "execution_count": null,
   "metadata": {},
   "outputs": [],
   "source": [
    "## %pylab inline\n",
    "#start a timer\n",
    "import time\n",
    "start_time = time.time()\n",
    "\n",
    "#import operating system \n",
    "from os import listdir\n",
    "from os.path import isfile, join\n",
    "from pathlib import Path\n",
    "import shutil\n",
    "\n",
    "#To Show Images\n",
    "import numpy as np\n",
    "import nibabel as nib\n",
    "import nilearn\n",
    "from nilearn import plotting\n",
    "import pickle\n",
    "import matplotlib.pyplot as plt\n",
    "\n",
    "\n",
    "# Import Pytorch\n",
    "import torch\n",
    "import torchvision\n",
    "from torch import nn\n",
    "from torch import optim\n",
    "from torch.nn import functional as F\n",
    "from torch import autograd\n",
    "from torch.autograd import Variable\n",
    "from torch_similarity.modules import NormalizedCrossCorrelation\n",
    "import pytorch_ssim\n",
    "from torch.utils.data import Dataset, DataLoader\n",
    "\n",
    "\n",
    "#Import Generator, Discriminator, Encoder and Code Discriminator \n",
    "from mmGANBased3 import *\n",
    "\n",
    "#Monai (Import data and transform data)\n",
    "from monai.transforms import \\\n",
    "    Compose,Flip, AddChannel,ResizeWithPadOrCrop, ScaleIntensity, ToTensor, Resize, RandRotate, RandFlip, RandScaleIntensity, RandZoom, RandGaussianNoise, RandAffine\n",
    "from monai.data import CacheDataset, ImageDataset"
   ]
  },
  {
   "cell_type": "markdown",
   "metadata": {},
   "source": [
    "## Choose architecture\n",
    "α-WGANSigmaRat1 => arch1\n",
    "\n",
    "α-WGANSigmaRat2 => arch2"
   ]
  },
  {
   "cell_type": "code",
   "execution_count": null,
   "metadata": {},
   "outputs": [],
   "source": [
    "#architecture = \"arch1\"\n",
    "architecture = \"arch2\""
   ]
  },
  {
   "cell_type": "code",
   "execution_count": null,
   "metadata": {},
   "outputs": [],
   "source": [
    "#Import Generator, Discriminator, Encoder and Code Discriminator \n",
    "if architecture == \"arch1\":\n",
    "    from WGAN_SigmaRat1 import *\n",
    "if architecture == \"arch2\":\n",
    "    from WGAN_SigmaRat2 import *\n"
   ]
  },
  {
   "cell_type": "markdown",
   "metadata": {},
   "source": [
    "# Configuration"
   ]
  },
  {
   "cell_type": "code",
   "execution_count": null,
   "metadata": {},
   "outputs": [],
   "source": [
    "#_______________________________________________Constants_______________________________________________\n",
    "DEBUG=True\n",
    "PATH_DATASET = 'path/to/the/dataset/MRI/'\n",
    "PATH_DATASET = '../../../datasets/sigmaRat/mri/'#_---------------------------------------------------------------------------\n",
    "MODEL_NAME=\"Model_Name\"\n",
    "\n",
    "#Neural net\n",
    "BATCH_SIZE = 2 #it must be 2 because of some metrics \n",
    "WORKERS = 2\n",
    "\n",
    "#setting latent variable sizes\n",
    "LATENT_DIM = 500\n",
    "\n",
    "#_________________________Visualization_variables_________________________\n",
    "SEE_SEVERAL_MODELS=True\n",
    "SEE_SLICE_SERIES=True\n",
    "USE_MONAI=True\n",
    "\n",
    "#__________________________f_it_is_to_calculate___________________________\n",
    "CALC_MS_SSIM=True\n",
    "CALC_MMD_SCORE=True\n",
    "CALC_PSNR=True\n",
    "CALC_RMSE=True\n",
    "CALC_MAE=True\n",
    "CALC_NCC=True"
   ]
  },
  {
   "cell_type": "markdown",
   "metadata": {},
   "source": [
    "# Data Set Creator"
   ]
  },
  {
   "cell_type": "code",
   "execution_count": null,
   "metadata": {},
   "outputs": [],
   "source": [
    "def create_train_loader():\n",
    "    train_transforms = Compose([AddChannel(),\n",
    "                                \n",
    "                                ScaleIntensity(minv=0, maxv=1.0),\n",
    "                                ResizeWithPadOrCrop(spatial_size =(64, 64, 64), mode='constant'),\n",
    "                                ToTensor()])\n",
    "\n",
    "    train_ds = ImageDataset(image_files=train_dataset, transform=train_transforms)\n",
    "    train_loader = DataLoader(train_ds, batch_size=BATCH_SIZE, shuffle=True, num_workers=WORKERS, pin_memory=torch.cuda.is_available())\n",
    "    return(train_loader)\n",
    "\n",
    "def create_train_dataset_list(path_dataset):\n",
    "    dataset = [f for f in listdir(path_dataset) if isfile(join(path_dataset, f))]\n",
    "    train_dataset=list()\n",
    "    for i in dataset:\n",
    "        train_dataset.append(path_dataset+i)\n",
    "    return train_dataset\n"
   ]
  },
  {
   "cell_type": "code",
   "execution_count": null,
   "metadata": {},
   "outputs": [],
   "source": [
    "train_dataset = create_train_dataset_list(PATH_DATASET)\n",
    "train_loader=create_train_loader()"
   ]
  },
  {
   "cell_type": "markdown",
   "metadata": {},
   "source": [
    "----\n",
    "# Visualization"
   ]
  },
  {
   "cell_type": "code",
   "execution_count": null,
   "metadata": {},
   "outputs": [],
   "source": [
    "def nets(only_G, number):\n",
    "    if only_G:\n",
    "        G = Generator(noise = LATENT_DIM)\n",
    "        #G.cuda()\n",
    "        device = torch.device('cpu')\n",
    "        G.load_state_dict(torch.load('./checkpoint/'+MODEL_NAME+'/G_iter'+str(number)+'.pth'))\n",
    "        #G.cuda()\n",
    "        return (G)\n",
    "    else:\n",
    "        G = Generator(noise = LATENT_DIM)\n",
    "        CD = Code_Discriminator(code_size = LATENT_DIM ,num_units = 4096)\n",
    "        D = Discriminator(is_dis=True)\n",
    "        if architecture == \"arch1\":\n",
    "            E = Discriminator(out_class = LATENT_DIM,is_dis=False)\n",
    "        if architecture == \"arch2\":\n",
    "            E = Encoder(out_class = LATENT_DIM,is_dis=False)\n",
    "        '''\n",
    "        # __TO_GPU___\n",
    "        E.cuda()   #|\n",
    "        G.cuda()   #|\n",
    "        CD.cuda()  #|\n",
    "        D.cuda()   #|\n",
    "        #__________#|\n",
    "        '''\n",
    "        \n",
    "        G.load_state_dict(torch.load('./checkpoint/'+MODEL_NAME+'/G_iter'+str(number)+'.pth'))\n",
    "        CD.load_state_dict(torch.load('./checkpoint/'+MODEL_NAME+'/CD_iter'+str(number)+'.pth'))\n",
    "        E.load_state_dict(torch.load('./checkpoint/'+MODEL_NAME+'/E_iter'+str(number)+'.pth'))\n",
    "        D.load_state_dict(torch.load('./checkpoint/'+MODEL_NAME+'/D_iter'+str(number)+'.pth'))\n",
    "\n",
    "        return (G,CD,D,E)\n",
    "\n"
   ]
  },
  {
   "cell_type": "code",
   "execution_count": null,
   "metadata": {},
   "outputs": [],
   "source": [
    "def get_affine(origin):\n",
    "    scan = nib.load(origin)\n",
    "    affine=scan.affine\n",
    "    header=scan.header\n",
    "\n",
    "    return affine, header\n",
    "\n",
    "def saver(image, origin, name, model_name):\n",
    "    affine, header=get_affine(origin)\n",
    "    \n",
    "    if not os.path.exists(model_name):\n",
    "        Path(model_name).mkdir(parents=True, exist_ok=True)\n",
    "    feat = np.squeeze((image).data.cpu().numpy())\n",
    "    feat = feat[:,:,12:52]\n",
    "    feat = nib.Nifti1Image(feat, affine = affine, header = header)\n",
    "    nib.save(feat, model_name + \"/\" + name + \".nii\")\n",
    "    \n",
    "    return (\"File \"+ name + \" saved\")"
   ]
  },
  {
   "cell_type": "code",
   "execution_count": null,
   "metadata": {},
   "outputs": [],
   "source": [
    "def visualization(image, reality):\n",
    "    #Show the real image\n",
    "    #image=rescale_array(image,0,1)\n",
    "    feat = np.squeeze((image[0]).data.cpu().numpy())\n",
    "    #feat=np.fliplr(feat)\n",
    "    feat = nib.Nifti1Image(feat,affine = np.eye(4))\n",
    "    plotting.plot_img(feat,title=reality, annotate=False, draw_cross=False, black_bg=True)\n",
    "    plotting.show()"
   ]
  },
  {
   "cell_type": "code",
   "execution_count": null,
   "metadata": {},
   "outputs": [],
   "source": [
    "real_images = next(iter(train_loader)) #next image\n",
    "visualization(image=real_images,  reality=\"Real\")"
   ]
  },
  {
   "cell_type": "code",
   "execution_count": null,
   "metadata": {},
   "outputs": [],
   "source": [
    "def rescale_array(arr: np.ndarray, minv: float = 0.0, maxv: float = 1.0): #monmai function adapted\n",
    "    \"\"\"\n",
    "    Rescale the values of numpy array `arr` to be from `minv` to `maxv`.\n",
    "    \"\"\"\n",
    "\n",
    "    mina = torch.min(arr)\n",
    "    maxa = torch.max(arr)\n",
    "\n",
    "    if mina == maxa:\n",
    "        return arr * minv\n",
    "\n",
    "    norm = (arr - mina) / (maxa - mina)  # normalize the array first\n",
    "    return (norm * (maxv - minv)) + minv  # rescale by minv and maxv, which is the normalized array by default"
   ]
  },
  {
   "cell_type": "code",
   "execution_count": null,
   "metadata": {},
   "outputs": [],
   "source": [
    "G=nets(only_G=True, number=200000)\n",
    "z_rand = Variable(torch.randn((BATCH_SIZE,LATENT_DIM)),volatile=True) #random vector\n",
    "x_rand = G(z_rand)# Image Generation\n",
    "x_rand=rescale_array(x_rand)\n",
    "visualization(x_rand, \"Fake\")\n"
   ]
  },
  {
   "cell_type": "markdown",
   "metadata": {},
   "source": [
    "# Slice series visualization"
   ]
  },
  {
   "cell_type": "code",
   "execution_count": null,
   "metadata": {},
   "outputs": [],
   "source": [
    "def slice_series(display_mode='x', arr1=list(), arr2=list(), show_color=True,show_real=False,model_number=163000):\n",
    "    G=nets(only_G=True, number=model_number)\n",
    "    z_rand = Variable(torch.randn((BATCH_SIZE,LATENT_DIM)),volatile=True) #random vector\n",
    "    x_rand = G(z_rand)\n",
    "    x_rand=rescale_array(x_rand,0,1)\n",
    "\n",
    "    if show_real:\n",
    "        real_images = next(iter(train_loader)) #next image\n",
    "        feat = np.squeeze((real_images[0]).data.cpu().numpy())\n",
    "        feat=np.fliplr(feat)\n",
    "        feat = nib.Nifti1Image(feat,affine = np.eye(4))\n",
    "        print(\"###########################################################\")\n",
    "        print(\"#####################---REAL_Slices---#####################\")\n",
    "        print(\"###########################################################\")\n",
    "        if show_color:\n",
    "            #first row\n",
    "            disp = plotting.plot_img(feat,cut_coords=arr1,draw_cross=False,annotate=False,black_bg=True,display_mode=display_mode)\n",
    "            plotting.show()\n",
    "            #second row\n",
    "            disp=plotting.plot_img(feat,cut_coords=arr2,draw_cross=False,annotate=False,black_bg=True,display_mode=display_mode)\n",
    "            plotting.show()\n",
    "        else:\n",
    "            #first row\n",
    "            disp = plotting.plot_anat(feat,cut_coords=arr1,draw_cross=False,annotate=False,black_bg=True,display_mode=display_mode)\n",
    "            plotting.show()\n",
    "            #second row\n",
    "            disp=plotting.plot_anat(feat,cut_coords=arr2,draw_cross=False,annotate=False,black_bg=True,display_mode=display_mode)\n",
    "            plotting.show()\n",
    "    print(\"###########################################################\")\n",
    "    print(\"#####################---FAKE_Slices---#####################\")\n",
    "    print(\"###########################################################\")\n",
    "    feat = np.squeeze((x_rand[0]).data.cpu().numpy())\n",
    "    feat=np.fliplr(feat)\n",
    "    feat = nib.Nifti1Image(feat,affine = np.eye(4))\n",
    "    if show_color:\n",
    "        #first row\n",
    "        disp = plotting.plot_img(feat,cut_coords=arr1,draw_cross=False,annotate=False,black_bg=True,display_mode=display_mode)\n",
    "        plotting.show()\n",
    "        #second row\n",
    "        disp=plotting.plot_img(feat,cut_coords=arr2,draw_cross=False,annotate=False,black_bg=True,display_mode=display_mode)\n",
    "        plotting.show()\n",
    "        \n",
    "        disp = plotting.plot_img(feat,cut_coords=arr1,draw_cross=False,annotate=False,black_bg=True,display_mode='x')\n",
    "        plotting.show()\n",
    "        #second row\n",
    "        disp=plotting.plot_img(feat,cut_coords=arr2,draw_cross=False,annotate=False,black_bg=True,display_mode='x')\n",
    "        plotting.show()\n",
    "        \n",
    "        disp = plotting.plot_img(feat,cut_coords=arr1,draw_cross=False,annotate=False,black_bg=True,display_mode='y')\n",
    "        plotting.show()\n",
    "        #second row\n",
    "        disp=plotting.plot_img(feat,cut_coords=arr2,draw_cross=False,annotate=False,black_bg=True,display_mode='y')\n",
    "        plotting.show()\n",
    "    else:\n",
    "        #first row\n",
    "        disp = plotting.plot_anat(feat,cut_coords=arr1,draw_cross=False,annotate=False,black_bg=True,display_mode=display_mode)\n",
    "        plotting.show()\n",
    "        #second row\n",
    "        disp=plotting.plot_anat(feat,cut_coords=arr2,draw_cross=False,annotate=False,black_bg=True,display_mode=display_mode)\n",
    "        plotting.show()\n",
    "        \n",
    "        disp = plotting.plot_anat(feat,cut_coords=arr1,draw_cross=False,annotate=False,black_bg=True,display_mode='x')\n",
    "        plotting.show()\n",
    "        #second row\n",
    "        disp=plotting.plot_anat(feat,cut_coords=arr2,draw_cross=False,annotate=False,black_bg=True,display_mode='x')\n",
    "        plotting.show()\n",
    "        \n",
    "        disp = plotting.plot_anat(feat,cut_coords=arr1,draw_cross=False,annotate=False,black_bg=True,display_mode='y')\n",
    "        plotting.show()\n",
    "        #second row\n",
    "        disp=plotting.plot_anat(feat,cut_coords=arr2,draw_cross=False,annotate=False,black_bg=True,display_mode='y')\n",
    "        plotting.show()"
   ]
  },
  {
   "cell_type": "code",
   "execution_count": null,
   "metadata": {},
   "outputs": [],
   "source": [
    "\n",
    "#______________set_slices_to_see____________________\n",
    "#arr1 = [4,6,8,10,12,14,16,18,20,22,24,26,28,30,32] #Every values between 1 and 64\n",
    "#arr2 = [34,36,38,40,42,44,46,48,50,52,54,56,58,60] #|\n",
    "#___________________________________________________|\n",
    "\n",
    "     #______________set_slices_to_see____________________\n",
    "arr1 = [22,24,26,28,30] #Every values must be between 1 and 64\n",
    "arr2 = [32,34,36,38,40] #|\n",
    "#____________________________________\n",
    "\n",
    "#_________________________which_types_of_slices_______________________ \n",
    "display_mode='z' #it could be 'x'->sagital ,'y'->coronal or 'z'->axial\n",
    "\n",
    "show_color=False #Anatomical plot (False) or colored plot (True)\n",
    "show_real=False #If want to see the real image (set True to see)\n",
    "model_number= 200000 #Set the model number for the Generator\n",
    "\n",
    "for i in range(20):\n",
    "\n",
    "    slice_series(display_mode=display_mode,arr1=arr1,arr2=arr2, show_color=show_color,show_real=show_real,model_number=model_number)"
   ]
  },
  {
   "cell_type": "markdown",
   "metadata": {},
   "source": [
    "\n",
    "----\n",
    "<a id=\"Metrics\">  </a>\n",
    "# Metrics - Objective"
   ]
  },
  {
   "cell_type": "markdown",
   "metadata": {},
   "source": [
    "## Multiscale Structural Similarity Index Measure (MS-SSIM)\n",
    "# $ SSIM(x,y)=\\frac{(2\\mu_{x}\\mu_{y}+c_{1})(2\\sigma_{xy}+c_{2})}{(\\mu_{x}^{2} +\\mu_{y}^{2}+c_{1})(\\sigma_{x}^{2} +\\sigma_{y}^{2}+c_{2})} $"
   ]
  },
  {
   "cell_type": "code",
   "execution_count": null,
   "metadata": {},
   "outputs": [],
   "source": [
    "def ms_ssim_real(number=20):\n",
    "    meanarr = list()\n",
    "    contar=0\n",
    "    for k in range(number):\n",
    "        sum_ssim=0\n",
    "        for i,dat in enumerate(train_loader):\n",
    "            if len(dat)!=2:\n",
    "                break\n",
    "            img1 = dat[0]\n",
    "            img2 = dat[1]\n",
    "            \n",
    "            img1=rescale_array(img1, 0.0, 1.0)\n",
    "            img2=rescale_array(img2, 0.0, 1.0)\n",
    "            \n",
    "            img1 = img1[:,:,:,12:52]\n",
    "            img2 = img2[:,:,:,12:52]\n",
    "            \n",
    "            msssim = pytorch_ssim.msssim_3d(img1,img2)\n",
    "            sum_ssim = sum_ssim+msssim\n",
    "            contar+=1\n",
    "        meanarr.append(sum_ssim/(i+1))\n",
    "        \n",
    "    visualization(image=dat[:,:,:,:,12:52], reality=\"Real\")\n",
    "    print(contar)\n",
    "    meanarr2=torch.tensor(meanarr)\n",
    "    return('Total_mean:'+str(torch.mean(meanarr2).item())+' STD:'+str(torch.std(meanarr2).item()))\n",
    "\n",
    "    \n",
    "def ms_ssim_generated(number=1750):\n",
    "    meanarr = list()\n",
    "    sum_ssim=0\n",
    "    contar=0\n",
    "    for i in range(number):\n",
    "        noise = Variable(torch.randn((2, 1000)).cuda())\n",
    "        fake_image = G(noise)\n",
    "        \n",
    "        img1 = fake_image[0]\n",
    "        img2 = fake_image[1]\n",
    "        \n",
    "        img1 = rescale_array(img1, 0.0, 1.0)\n",
    "        img2 = rescale_array(img2, 0.0, 1.0)\n",
    "        \n",
    "        img1 = img1[:,:,:,12:52]\n",
    "        img2 = img2[:,:,:,12:52]\n",
    "\n",
    "        msssim = pytorch_ssim.msssim_3d(img1,img2)\n",
    "        contar+=1\n",
    "        sum_ssim = sum_ssim+msssim\n",
    "        meanarr.append(sum_ssim/(i+1))\n",
    "    print(contar)\n",
    "    visualization(image=fake_image[:,:,:,:,12:52], reality=\"Fake\")\n",
    "\n",
    "    meanarr2=torch.tensor(meanarr)\n",
    "    \n",
    "    return('Total_mean:'+str(torch.mean(meanarr2).item())+' STD:'+str(torch.std(meanarr2).item()))\n"
   ]
  },
  {
   "cell_type": "code",
   "execution_count": 66,
   "metadata": {},
   "outputs": [
    {
     "data": {
      "image/png": "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\n",
      "text/plain": [
       "<Figure size 475.2x187.2 with 4 Axes>"
      ]
     },
     "metadata": {},
     "output_type": "display_data"
    },
    {
     "name": "stdout",
     "output_type": "stream",
     "text": [
      "2100\n",
     ]
    },
    {
     "data": {
      "image/png": "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\n",
      "text/plain": [
       "<Figure size 475.2x187.2 with 4 Axes>"
      ]
     },
     "metadata": {},
     "output_type": "display_data"
    },
    {
     "name": "stdout",
     "output_type": "stream",
     "text": [
      "MS_SSIM_fake"
     ]
    }
   ],
   "source": [
    "if CALC_MS_SSIM:\n",
    "    number=200\n",
    "    model_number=200000 #Set the model number for the Generator\n",
    "    G=nets(only_G=True, number=model_number).cuda()\n",
    "    print(\"#####################---REAL_Images---#####################\")\n",
    "    print(\"MS_SSIM_real=\",ms_ssim_real(number//10)) #will do 1750 comparations\n",
    "    print(\"#####################---FAKE_Images---#####################\")\n",
    "    print(\"MS_SSIM_fake=\",ms_ssim_generated(int(number*8.75))) #the same as previous"
   ]
  },
  {
   "cell_type": "markdown",
   "metadata": {},
   "source": [
    "----\n",
    "## Maximum-Mean Discrepancy Score (MMD Score)\n",
    "# $ MMD(P,Q)=||\\mu _{P}-\\mu _{Q}||_{H} $"
   ]
  },
  {
   "cell_type": "code",
   "execution_count": null,
   "metadata": {},
   "outputs": [],
   "source": [
    "def mmd_score(number=100):     \n",
    "    meanarr = list()\n",
    "    for s in range(number):\n",
    "        distmean = 0.0\n",
    "        for i,(y) in enumerate(train_loader):\n",
    "            y = Variable(y).cuda()\n",
    "            y = rescale_array(y, 0.0, 1.0)\n",
    "            y = y[:,:,:,:,12:52]\n",
    "\n",
    "            z_rand = Variable(torch.randn((BATCH_SIZE,LATENT_DIM)),volatile=True).cuda() #random vector\n",
    "            x = G(z_rand)\n",
    "            x = rescale_array(x, 0.0, 1.0)\n",
    "            x = x[:,:,:,:,12:52]\n",
    "\n",
    "            \n",
    "            B = y.size(0)\n",
    "            x = torch.reshape(x, (x.size(0), x.size(2) * x.size(3)* x.size(4)))\n",
    "            #x = x.view(x.size(0), x.size(2) * x.size(3)* x.size(4))\n",
    "            #y = y.view(y.size(0), y.size(2) * y.size(3)* y.size(4))\n",
    "            y = torch.reshape(y, (y.size(0), y.size(2) * y.size(3)* y.size(4)))\n",
    "            \n",
    "            xx, yy, zz = torch.mm(x,x.t()), torch.mm(y,y.t()), torch.mm(x,y.t())\n",
    "\n",
    "            beta = (1./(B*B))\n",
    "            gamma = (2./(B*B)) \n",
    "\n",
    "            Dist = beta * (torch.sum(xx)+torch.sum(yy)) - gamma * torch.sum(zz)\n",
    "            Dist2=Dist.item()\n",
    "            distmean += Dist2\n",
    "\n",
    "\n",
    "        #print('Mean:'+str(distmean/(i+1)))\n",
    "        meanarr.append(distmean/(i+1))\n",
    "\n",
    "    meanarr2=torch.tensor(meanarr)\n",
    "\n",
    "    return('Total_mean:'+str(torch.mean(meanarr2).item())+' STD:'+str(torch.std(meanarr2).item()))"
   ]
  },
  {
   "cell_type": "code",
   "execution_count": null,
   "metadata": {},
   "outputs": [],
   "source": [
    "if CALC_MMD_SCORE:\n",
    "    number=100\n",
    "    model_number=200000 #Set the model number for the Generator\n",
    "    G=nets(only_G=True, number=model_number).cuda()\n",
    "    print(\"#####################---MMD_Score---#####################\")\n",
    "    print(\"MMD=\",mmd_score(number=number))"
   ]
  },
  {
   "cell_type": "markdown",
   "metadata": {},
   "source": [
    "---\n",
    "## Peak signal-to-noise ratio (PSNR) \n",
    "\n",
    "$ PSNR = 20\\cdot log_{10}(MAXRange)-10\\cdot log_{10}(MSE) $\n",
    "\n",
    "If normalized values are used $ 20\\cdot log_{10}(MAXRange)$ will be zero so:\n",
    "\n",
    "# $ PSNR = 10\\cdot log_{10}(MSE) $"
   ]
  },
  {
   "cell_type": "code",
   "execution_count": null,
   "metadata": {},
   "outputs": [],
   "source": [
    "criterion_mse = nn.MSELoss()\n",
    "def PSNR(value_range=1, model_number=200000,number=100):\n",
    "    meanarr=list()\n",
    "\n",
    "    #verify if the values are between 0 and 1\n",
    "    value_range=torch.cuda.FloatTensor([[value_range]])\n",
    "    #print(value_range)\n",
    "    for s in range(number):\n",
    "        semi_psnr=0.0\n",
    "        for i,(y) in enumerate(train_loader):\n",
    "            y = Variable(y).cuda()\n",
    "            \n",
    "            y = y[:,:,:,:,12:52]\n",
    "\n",
    "            #y=((y+1)/2) #normalization [0,1]\n",
    "            y = rescale_array(y, 0.0, 1.0)\n",
    "            \n",
    "            z_rand = Variable(torch.randn((2,LATENT_DIM)),volatile=True).cuda() #random vector\n",
    "            x_rand = G(z_rand)\n",
    "            x_rand = x_rand[:,:,:,:,12:52]\n",
    "\n",
    "            \n",
    "            #x_rand=((x_rand+1)/2) #normalization [0,1]\n",
    "            x_rand = rescale_array(x_rand, 0.0, 1.0)\n",
    "\n",
    "            PSNR = 20.*torch.log10(value_range) - 10.*torch.log10(criterion_mse(x_rand, y))\n",
    "            PSNR2=PSNR.item()\n",
    "            semi_psnr+=PSNR2\n",
    "        #print('Mean:'+str(semi_psnr/(i+1)))\n",
    "        meanarr.append(semi_psnr/(i+1))\n",
    "    meanarr2=torch.tensor(meanarr)\n",
    "\n",
    "    \n",
    "    return('Total_mean:'+str(torch.mean(meanarr2).item())+' STD:'+str(torch.std(meanarr2).item()))"
   ]
  },
  {
   "cell_type": "code",
   "execution_count": null,
   "metadata": {},
   "outputs": [],
   "source": [
    "if CALC_PSNR:  \n",
    "    number=100\n",
    "    model_number=200000\n",
    "    G=nets(only_G=True, number=model_number).cuda()\n",
    "    print(\"#####################---PSNR_Value---#####################\")\n",
    "    print(\"PSNR=\",PSNR(number=number))"
   ]
  },
  {
   "cell_type": "markdown",
   "metadata": {},
   "source": [
    "---\n",
    "## Root Mean Squared Error\n",
    "$ MSE(P,Q)=\\frac{1}{n}\\sum_{i=1}^{n}(y_{i}-x_{i})^{2} $\n",
    "# $ RMSE=\\sqrt{MSE} $\n",
    "#### NRMSE can be calculated by $ RMSE/(max-min) $ -> since max=1 and min=0, $ NRMSE=RMSE $"
   ]
  },
  {
   "cell_type": "code",
   "execution_count": null,
   "metadata": {},
   "outputs": [],
   "source": [
    "def RMSE(number=100):\n",
    "    mse = nn.MSELoss() #-> L2 Loss\n",
    "\n",
    "    meanarr=list()\n",
    "    for s in range(number):\n",
    "        semi_rmse=0.0\n",
    "        for i,(y) in enumerate(train_loader):\n",
    "\n",
    "            y = Variable(y).cuda()\n",
    "            y = y[:,:,:,:,12:52]\n",
    "            #y=((y+1)/2) #normalization [0,1]\n",
    "            y = rescale_array(y, 0.0, 1.0)\n",
    "\n",
    "            z_rand = Variable(torch.randn((1,LATENT_DIM)),volatile=True).cuda() #random vector\n",
    "            x_rand = G(z_rand) #prediction image\n",
    "            \n",
    "            x_rand = x_rand[:,:,:,:,12:52]\n",
    "            #x_rand=((x_rand+1)/2) #normalization [0,1]\n",
    "            x_rand = rescale_array(x_rand, 0.0, 1.0)\n",
    "\n",
    "            RMSE_value= torch.sqrt(mse(x_rand,y))\n",
    "\n",
    "            semi_rmse+=RMSE_value.item()\n",
    "        meanarr.append(semi_rmse/(i+1))    \n",
    "    meanarr2=torch.tensor(meanarr)\n",
    "    \n",
    "    return('Total_mean:'+str(torch.mean(meanarr2).item())+' STD:'+str(torch.std(meanarr2).item()))"
   ]
  },
  {
   "cell_type": "code",
   "execution_count": null,
   "metadata": {},
   "outputs": [],
   "source": [
    "if CALC_RMSE:\n",
    "    number=100\n",
    "    model_number=200000\n",
    "    G=nets(only_G=True, number=model_number).cuda()\n",
    "    print(\"#####################---RMSE/NRMSE_Value---#####################\")\n",
    "    print(\"RMSE=\",RMSE(number=number))"
   ]
  },
  {
   "cell_type": "markdown",
   "metadata": {},
   "source": [
    "----\n",
    "## Mean Absolute Error (MAE)\n",
    "# $ MAE=\\frac{\\sum_{i=1}^{n}|y_{i}-x_{i}| }{n} $"
   ]
  },
  {
   "cell_type": "code",
   "execution_count": null,
   "metadata": {},
   "outputs": [],
   "source": [
    "def MAE(number=100):\n",
    "    mae = nn.L1Loss() #-> L1 Loss\n",
    "    meanarr=list()\n",
    "    \n",
    "    for s in range(number):\n",
    "        semi_mae=0.0\n",
    "        for i,(y) in enumerate(train_loader):\n",
    "            y = Variable(y).cuda()\n",
    "            y = rescale_array(y, 0.0, 1.0)\n",
    "            \n",
    "            #y=((y+1)/2) #normalization [0,1]\n",
    "\n",
    "            z_rand = Variable(torch.randn((1,LATENT_DIM)),volatile=True).cuda() #random vector\n",
    "            x_rand = G(z_rand) #prediction image\n",
    "            \n",
    "            x_rand = rescale_array(x_rand, 0.0, 1.0)\n",
    "            #x_rand=((x_rand+1)/2) #normalization [0,1]\n",
    "\n",
    "            MAE_value = mae(x_rand,y)\n",
    "\n",
    "            semi_mae+=MAE_value.item()\n",
    "        meanarr.append(semi_mae/(i+1))\n",
    "    meanarr2=torch.tensor(meanarr)\n",
    "    \n",
    "    return('Total_mean:'+str(torch.mean(meanarr2).item())+' STD:'+str(torch.std(meanarr2).item()))"
   ]
  },
  {
   "cell_type": "code",
   "execution_count": null,
   "metadata": {},
   "outputs": [],
   "source": [
    "if CALC_MAE:\n",
    "    number=100\n",
    "    model_number=200000\n",
    "    G=nets(only_G=True, number=model_number).cuda()\n",
    "    \n",
    "    print(\"#####################---MAE_Value---#####################\")\n",
    "    print(\"MAE=\",MAE(number=number))"
   ]
  },
  {
   "cell_type": "markdown",
   "metadata": {},
   "source": [
    "----\n",
    "## Normalized Cross Correlation (NCC)\n",
    "# $ NCC=\\frac{1}{n}\\sum_{x,y}\\frac{1}{\\sigma_{f} \\sigma _{f}}f(x,y)t(x,y) $ "
   ]
  },
  {
   "cell_type": "code",
   "execution_count": null,
   "metadata": {},
   "outputs": [],
   "source": [
    "#https://github.com/yuta-hi/pytorch_similarity\n",
    "def NCC(number=1):\n",
    "    model = NormalizedCrossCorrelation(return_map=True) #NCC\n",
    "    \n",
    "    meanarr=list()\n",
    "\n",
    "    for s in range(number):\n",
    "        semi_ncc=0.0\n",
    "        for i,(y) in enumerate(train_loader):\n",
    "            \n",
    "            y = Variable(y).cuda()\n",
    "            #y=((y+1)/2) #normalization [0,1]\n",
    "            y = rescale_array(y, 0.0, 1.0)\n",
    "            \n",
    "            z_rand = Variable(torch.randn((BATCH_SIZE,LATENT_DIM)),volatile=True).cuda() #random vector\n",
    "            x_rand = G(z_rand) #prediction image\n",
    "            #x_rand=((x_rand+1)/2) #normalization [0,1]\n",
    "            x_rand = rescale_array(x_rand, 0.0, 1.0)\n",
    "            \n",
    "            if y.size()==x_rand.size():\n",
    "                gc, gc_map = model(x_rand, y)\n",
    "                semi_ncc+=gc.item()\n",
    "        \n",
    "        meanarr.append(semi_ncc/(i+1))\n",
    "    meanarr2=torch.tensor(meanarr)\n",
    "    \n",
    "    return('Total_mean:'+str(torch.mean(meanarr2).item())+' STD:'+str(torch.std(meanarr2).item()))"
   ]
  },
  {
   "cell_type": "code",
   "execution_count": null,
   "metadata": {},
   "outputs": [],
   "source": [
    "if CALC_NCC:\n",
    "    number=100\n",
    "    model_number=200000\n",
    "    G=nets(only_G=True, number=model_number).cuda()\n",
    "    print(\"#####################---NCC_Value---#####################\")\n",
    "    print(\"NCC=\",NCC(number=number))"
   ]
  }
 ],
 "metadata": {
  "kernelspec": {
   "display_name": "Python 3",
   "language": "python",
   "name": "python3"
  },
  "language_info": {
   "codemirror_mode": {
    "name": "ipython",
    "version": 3
   },
   "file_extension": ".py",
   "mimetype": "text/x-python",
   "name": "python",
   "nbconvert_exporter": "python",
   "pygments_lexer": "ipython3",
   "version": "3.7.7"
  }
 },
 "nbformat": 4,
 "nbformat_minor": 4
}
